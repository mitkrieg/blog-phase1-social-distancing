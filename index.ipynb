{
 "cells": [
  {
   "cell_type": "markdown",
   "metadata": {},
   "source": [
    "# Social Distancing: Do we listen to eachother\n",
    "Using data from [New York City's Open Data Portal](https://opendata.cityofnewyork.us/), this is an investigation of if people when encountered by city ambassadors comply with social distancing policies. \n",
    "\n",
    "## Part One: Data Collection & Cleaning\n",
    "\n",
    "There are 5 datasets regarding this issue:\n",
    "\n",
    "  1. Park Patrol: data collected from Urban Park Rangers and the Parks Enforcement Patrol (`patrol`)\n",
    "  2. Parks Ambassador: data collected from Social Distancing Ambassadors (`sda`)\n",
    "  3. City Wide Amabassador: data collected from Interagency Ambassadors (`citywide`)\n",
    "  4. Parks Crowds Data: data collected from NYC Parks Maintenance & Operations staff (`mando`)\n",
    "  5. Parks Areas: Geographical/geometric and zone data about the parks (`area`)\n",
    "\n",
    "**Step 1: Load data from the CSV files from Open Data Portal:**"
   ]
  },
  {
   "cell_type": "code",
   "execution_count": 1,
   "metadata": {},
   "outputs": [],
   "source": [
    "import pandas as pd\n",
    "import numpy as np"
   ]
  },
  {
   "cell_type": "code",
   "execution_count": 2,
   "metadata": {},
   "outputs": [],
   "source": [
    "patrol = pd.read_csv('./data/Parks_Patrol.csv', \n",
    "                     dtype={'simplified_encounter_type': str, 'closed_patroncount': str,\n",
    "                           'closed_education': str, 'closed_outcome_spec': str, 'closed_outcome': str,\n",
    "                           'closed_pdcontact': str,'sd_amenity': str, 'closed_amenity': str, 'sd_pdcontact': str})\n",
    "\n",
    "patrol.drop(['summonscount_a01','summonscount_a03','summonscount_a04','summonscount_a22',\n",
    "             'other_summonscount', 'closed_amenity', 'closed_patroncount', 'closed_education',\n",
    "             'closed_outcome', 'closed_pdcontact', 'closed_outcome_spec',\n",
    "             'patrol_method', 'visit_reason'], axis=1, inplace=True)\n",
    "\n",
    "patrol.drop(patrol.loc[patrol.simplified_encounter_type == 'No Encounter'].index,inplace=True)\n",
    "patrol.dropna(axis=0,subset=['sd_patronscomplied'],inplace= True)\n",
    "\n",
    "patrol.rename(columns={'park_division':'city_agency'})\n",
    "patrol['source'] = pd.Series(['patrol' for x in range(0,patrol.shape[0])])"
   ]
  },
  {
   "cell_type": "code",
   "execution_count": 3,
   "metadata": {
    "scrolled": true
   },
   "outputs": [],
   "source": [
    "sda = pd.read_csv('Parks_Ambassador.csv',\n",
    "                 dtype={'simplified_encounter_type': str, 'closed_patroncount': str,\n",
    "                           'closed_education': str, 'closed_outcome_spec': str, 'closed_outcome': str,\n",
    "                           'closed_pdcontact': str,'sd_amenity': str, 'closed_amenity': str, 'sd_pdcontact': str})\n",
    "\n",
    "sda.drop(['closed_amenity', 'closed_patroncount','closed_outcome', 'closed_approach', ], axis=1, inplace=True)\n",
    "\n",
    "sda.drop(sda.loc[sda.simplified_encounter_type == 'No Encounter'].index,inplace=True)\n",
    "sda.dropna(axis=0,subset=['sd_patronscomplied'],inplace= True)\n",
    "\n",
    "sda.rename(columns={'park_division':'city_agency'})\n",
    "sda['source'] = pd.Series(['sda' for x in range(0,sda.shape[0])])"
   ]
  },
  {
   "cell_type": "code",
   "execution_count": 4,
   "metadata": {},
   "outputs": [],
   "source": [
    "citywide = pd.read_csv('Citywide.csv',\n",
    "                 dtype={'simplified_encounter_type': str, 'closed_patroncount': str,\n",
    "                           'closed_education': str, 'closed_outcome_spec': str, 'closed_outcome': str,\n",
    "                           'closed_pdcontact': str,'sd_amenity': str, 'closed_amenity': str, 'sd_pdcontact': str})\n",
    "\n",
    "citywide.drop(['closed_amenity', 'closed_patroncount','closed_outcome', 'closed_approach', ], axis=1, inplace=True)\n",
    "\n",
    "#citywide.drop(sda.loc[citywide.simplified_encounter_type == 'No Encounter'].index,inplace=True)\n",
    "citywide.dropna(axis=0,subset=['sd_patronscomplied'],inplace= True)\n",
    "\n",
    "citywide['source'] = pd.Series(['citywide' for x in range(0,citywide.shape[0])])"
   ]
  },
  {
   "cell_type": "code",
   "execution_count": 30,
   "metadata": {},
   "outputs": [],
   "source": [
    "mando = pd.read_csv('Maintenance_and_operations.csv')\n",
    "\n",
    "mando.drop(['park_district'], axis=1, inplace=True)\n",
    "\n",
    "mando['source'] = pd.Series(['mando' for x in range(0,mando.shape[0])])\n",
    "mando.drop(mando.loc[mando.action_taken == 'Did not approach the crowd; the crowd remains'].index,inplace=True)\n",
    "#mando.dropna(axis=0,subset=['sd_patronscomplied'],inplace= True)\n",
    "\n",
    "mando.rename(columns={'amenity':'sd_amenity','action_taken':'encounter_type',\n",
    "                      'encounter_timestamp':'encounter_datetime'},inplace= True)\n",
    "\n",
    "mando['sd_patronscomplied'] = 0\n",
    "mando['sd_patronsnocomply'] = 0\n",
    "\n",
    "mando.sd_patronsnocomply = np.where(mando.encounter_type == 'Approached the crowd; they ignored the employee',\n",
    "                                 mando.patroncount,0)\n",
    "mando.sd_patronscomplied = np.where(mando.encounter_type == 'Approached the crowd; they complied with instructions',\n",
    "                                 mando.patroncount,0)"
   ]
  },
  {
   "cell_type": "code",
   "execution_count": 33,
   "metadata": {},
   "outputs": [
    {
     "data": {
      "text/plain": [
       "39       07/08/2020 08:15:00 AM\n",
       "52       07/07/2020 11:00:00 PM\n",
       "53       07/07/2020 11:00:00 PM\n",
       "54       07/07/2020 11:00:00 PM\n",
       "60       07/07/2020 07:37:00 PM\n",
       "                  ...          \n",
       "47726    09/13/2020 06:00:00 PM\n",
       "47754    09/13/2020 04:49:00 PM\n",
       "47848                       NaN\n",
       "47894    09/13/2020 04:45:00 PM\n",
       "47910    09/08/2020 05:30:00 PM\n",
       "Name: encounter_datetime, Length: 3476, dtype: object"
      ]
     },
     "execution_count": 33,
     "metadata": {},
     "output_type": "execute_result"
    }
   ],
   "source": [
    "#merging\n",
    "patrol.encounter_datetime"
   ]
  },
  {
   "cell_type": "code",
   "execution_count": null,
   "metadata": {},
   "outputs": [],
   "source": []
  },
  {
   "cell_type": "code",
   "execution_count": null,
   "metadata": {},
   "outputs": [],
   "source": []
  },
  {
   "cell_type": "code",
   "execution_count": null,
   "metadata": {},
   "outputs": [],
   "source": []
  },
  {
   "cell_type": "code",
   "execution_count": null,
   "metadata": {},
   "outputs": [],
   "source": []
  },
  {
   "cell_type": "code",
   "execution_count": null,
   "metadata": {},
   "outputs": [],
   "source": []
  },
  {
   "cell_type": "code",
   "execution_count": null,
   "metadata": {},
   "outputs": [],
   "source": []
  },
  {
   "cell_type": "code",
   "execution_count": null,
   "metadata": {},
   "outputs": [],
   "source": []
  },
  {
   "cell_type": "code",
   "execution_count": null,
   "metadata": {},
   "outputs": [],
   "source": []
  }
 ],
 "metadata": {
  "kernelspec": {
   "display_name": "learn-env",
   "language": "python",
   "name": "learn-env"
  },
  "language_info": {
   "codemirror_mode": {
    "name": "ipython",
    "version": 3
   },
   "file_extension": ".py",
   "mimetype": "text/x-python",
   "name": "python",
   "nbconvert_exporter": "python",
   "pygments_lexer": "ipython3",
   "version": "3.6.9"
  }
 },
 "nbformat": 4,
 "nbformat_minor": 4
}
